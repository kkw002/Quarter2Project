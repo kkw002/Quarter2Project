{
 "cells": [
  {
   "cell_type": "code",
   "execution_count": 60,
   "id": "83684eb2",
   "metadata": {},
   "outputs": [],
   "source": [
    "import pandas as pd\n",
    "import re\n",
    "from sklearn.feature_extraction.text import TfidfVectorizer\n",
    "from sklearn.model_selection import train_test_split\n",
    "from sklearn.linear_model import LogisticRegression\n",
    "from sklearn import metrics"
   ]
  },
  {
   "cell_type": "code",
   "execution_count": 14,
   "id": "b4a076b7",
   "metadata": {},
   "outputs": [],
   "source": [
    "complete_frame = pd.read_parquet('DSC180B.parquet')"
   ]
  },
  {
   "cell_type": "code",
   "execution_count": 15,
   "id": "2cd20694",
   "metadata": {},
   "outputs": [
    {
     "data": {
      "text/html": [
       "<div>\n",
       "<style scoped>\n",
       "    .dataframe tbody tr th:only-of-type {\n",
       "        vertical-align: middle;\n",
       "    }\n",
       "\n",
       "    .dataframe tbody tr th {\n",
       "        vertical-align: top;\n",
       "    }\n",
       "\n",
       "    .dataframe thead th {\n",
       "        text-align: right;\n",
       "    }\n",
       "</style>\n",
       "<table border=\"1\" class=\"dataframe\">\n",
       "  <thead>\n",
       "    <tr style=\"text-align: right;\">\n",
       "      <th></th>\n",
       "      <th>transaction_date</th>\n",
       "      <th>amount</th>\n",
       "      <th>memo</th>\n",
       "      <th>new_category</th>\n",
       "    </tr>\n",
       "  </thead>\n",
       "  <tbody>\n",
       "    <tr>\n",
       "      <th>8</th>\n",
       "      <td>2018-03-06</td>\n",
       "      <td>15.25</td>\n",
       "      <td>POS CASINO BAR @ SPOTL - MEMO=PURCHASE 03/02 C...</td>\n",
       "      <td>Entertainment</td>\n",
       "    </tr>\n",
       "    <tr>\n",
       "      <th>39</th>\n",
       "      <td>2018-09-29</td>\n",
       "      <td>16.04</td>\n",
       "      <td>BEST BUY   GRAND REGENCY BRANDON F</td>\n",
       "      <td>General Merchandise</td>\n",
       "    </tr>\n",
       "    <tr>\n",
       "      <th>45</th>\n",
       "      <td>2018-10-17</td>\n",
       "      <td>10.36</td>\n",
       "      <td>CORNER STORE  ARLINGTON TX 10/17 Purchase $5.3...</td>\n",
       "      <td>Automotive</td>\n",
       "    </tr>\n",
       "    <tr>\n",
       "      <th>52</th>\n",
       "      <td>2017-07-11</td>\n",
       "      <td>4.63</td>\n",
       "      <td>SPEEDWAY  IN BEDFORD IN 07/10 DEBIT_CARD</td>\n",
       "      <td>Automotive</td>\n",
       "    </tr>\n",
       "    <tr>\n",
       "      <th>55</th>\n",
       "      <td>2018-09-10</td>\n",
       "      <td>223.00</td>\n",
       "      <td>PAYMENT FOR AMZ STORECARD  WEB ID:  ACH_DEBIT</td>\n",
       "      <td>General Merchandise</td>\n",
       "    </tr>\n",
       "    <tr>\n",
       "      <th>...</th>\n",
       "      <td>...</td>\n",
       "      <td>...</td>\n",
       "      <td>...</td>\n",
       "      <td>...</td>\n",
       "    </tr>\n",
       "    <tr>\n",
       "      <th>1999981</th>\n",
       "      <td>2021-02-19</td>\n",
       "      <td>24.24</td>\n",
       "      <td>DBT/WDR CASEYS GEN STORE  FENNIMORE WI</td>\n",
       "      <td>Automotive</td>\n",
       "    </tr>\n",
       "    <tr>\n",
       "      <th>1999982</th>\n",
       "      <td>2021-01-19</td>\n",
       "      <td>120.60</td>\n",
       "      <td>POS Debit - DDA KOHLS  CLIVE IA #</td>\n",
       "      <td>General Merchandise</td>\n",
       "    </tr>\n",
       "    <tr>\n",
       "      <th>1999983</th>\n",
       "      <td>2022-02-25</td>\n",
       "      <td>6.47</td>\n",
       "      <td>STARBUCKS STORE  MAPLE VALLEY WA        02/24</td>\n",
       "      <td>Food and Beverages</td>\n",
       "    </tr>\n",
       "    <tr>\n",
       "      <th>1999991</th>\n",
       "      <td>2021-01-11</td>\n",
       "      <td>44.98</td>\n",
       "      <td>POS Debit - Visa Check Card  - APPLE.COM/BILL ...</td>\n",
       "      <td>General Merchandise</td>\n",
       "    </tr>\n",
       "    <tr>\n",
       "      <th>1999992</th>\n",
       "      <td>2022-04-11</td>\n",
       "      <td>1.00</td>\n",
       "      <td>NAYAX VENDING 2 HUNT VALLEY MD               0...</td>\n",
       "      <td>Food and Beverages</td>\n",
       "    </tr>\n",
       "  </tbody>\n",
       "</table>\n",
       "<p>496101 rows × 4 columns</p>\n",
       "</div>"
      ],
      "text/plain": [
       "        transaction_date  amount  \\\n",
       "8             2018-03-06   15.25   \n",
       "39            2018-09-29   16.04   \n",
       "45            2018-10-17   10.36   \n",
       "52            2017-07-11    4.63   \n",
       "55            2018-09-10  223.00   \n",
       "...                  ...     ...   \n",
       "1999981       2021-02-19   24.24   \n",
       "1999982       2021-01-19  120.60   \n",
       "1999983       2022-02-25    6.47   \n",
       "1999991       2021-01-11   44.98   \n",
       "1999992       2022-04-11    1.00   \n",
       "\n",
       "                                                      memo  \\\n",
       "8        POS CASINO BAR @ SPOTL - MEMO=PURCHASE 03/02 C...   \n",
       "39                      BEST BUY   GRAND REGENCY BRANDON F   \n",
       "45       CORNER STORE  ARLINGTON TX 10/17 Purchase $5.3...   \n",
       "52                SPEEDWAY  IN BEDFORD IN 07/10 DEBIT_CARD   \n",
       "55           PAYMENT FOR AMZ STORECARD  WEB ID:  ACH_DEBIT   \n",
       "...                                                    ...   \n",
       "1999981             DBT/WDR CASEYS GEN STORE  FENNIMORE WI   \n",
       "1999982                  POS Debit - DDA KOHLS  CLIVE IA #   \n",
       "1999983      STARBUCKS STORE  MAPLE VALLEY WA        02/24   \n",
       "1999991  POS Debit - Visa Check Card  - APPLE.COM/BILL ...   \n",
       "1999992  NAYAX VENDING 2 HUNT VALLEY MD               0...   \n",
       "\n",
       "                new_category  \n",
       "8              Entertainment  \n",
       "39       General Merchandise  \n",
       "45                Automotive  \n",
       "52                Automotive  \n",
       "55       General Merchandise  \n",
       "...                      ...  \n",
       "1999981           Automotive  \n",
       "1999982  General Merchandise  \n",
       "1999983   Food and Beverages  \n",
       "1999991  General Merchandise  \n",
       "1999992   Food and Beverages  \n",
       "\n",
       "[496101 rows x 4 columns]"
      ]
     },
     "execution_count": 15,
     "metadata": {},
     "output_type": "execute_result"
    }
   ],
   "source": [
    "complete_frame\n",
    "#consider the date where people buy things, whole dollar amounts"
   ]
  },
  {
   "cell_type": "code",
   "execution_count": 17,
   "id": "cee24bca",
   "metadata": {},
   "outputs": [],
   "source": [
    "complete_frame['memo']=complete_frame['memo'].apply(lambda x:x.lower())\n",
    "complete_frame['memo']= complete_frame['memo'].apply(lambda x:re.sub(r'[^\\w\\s]','',x))\n",
    "complete_frame['memo']=complete_frame['memo'].apply(lambda x:re.sub(r'[\\d]','',x))"
   ]
  },
  {
   "cell_type": "code",
   "execution_count": 34,
   "id": "88f910fb",
   "metadata": {},
   "outputs": [],
   "source": [
    "split_set = complete_frame[['memo','new_category']]"
   ]
  },
  {
   "cell_type": "code",
   "execution_count": 35,
   "id": "e93c85dd",
   "metadata": {},
   "outputs": [],
   "source": [
    "tfidf = TfidfVectorizer(stop_words='english') #1-3 character/words, "
   ]
  },
  {
   "cell_type": "code",
   "execution_count": 38,
   "id": "4d4d912b",
   "metadata": {},
   "outputs": [],
   "source": [
    "X_train, X_test, y_train, y_test = train_test_split(split_set['memo'],split_set['new_category'],test_size=0.3, random_state=42)"
   ]
  },
  {
   "cell_type": "code",
   "execution_count": 46,
   "id": "f7894f3c",
   "metadata": {},
   "outputs": [
    {
     "data": {
      "text/html": [
       "<div>\n",
       "<style scoped>\n",
       "    .dataframe tbody tr th:only-of-type {\n",
       "        vertical-align: middle;\n",
       "    }\n",
       "\n",
       "    .dataframe tbody tr th {\n",
       "        vertical-align: top;\n",
       "    }\n",
       "\n",
       "    .dataframe thead th {\n",
       "        text-align: right;\n",
       "    }\n",
       "</style>\n",
       "<table border=\"1\" class=\"dataframe\">\n",
       "  <thead>\n",
       "    <tr style=\"text-align: right;\">\n",
       "      <th></th>\n",
       "      <th>memo</th>\n",
       "      <th>new_category</th>\n",
       "    </tr>\n",
       "  </thead>\n",
       "  <tbody>\n",
       "    <tr>\n",
       "      <th>8</th>\n",
       "      <td>pos casino bar  spotl  memopurchase  coachella...</td>\n",
       "      <td>Entertainment</td>\n",
       "    </tr>\n",
       "    <tr>\n",
       "      <th>39</th>\n",
       "      <td>best buy   grand regency brandon f</td>\n",
       "      <td>General Merchandise</td>\n",
       "    </tr>\n",
       "    <tr>\n",
       "      <th>45</th>\n",
       "      <td>corner store  arlington tx  purchase  cash bac...</td>\n",
       "      <td>Automotive</td>\n",
       "    </tr>\n",
       "    <tr>\n",
       "      <th>52</th>\n",
       "      <td>speedway  in bedford in  debit_card</td>\n",
       "      <td>Automotive</td>\n",
       "    </tr>\n",
       "    <tr>\n",
       "      <th>55</th>\n",
       "      <td>payment for amz storecard  web id  ach_debit</td>\n",
       "      <td>General Merchandise</td>\n",
       "    </tr>\n",
       "    <tr>\n",
       "      <th>...</th>\n",
       "      <td>...</td>\n",
       "      <td>...</td>\n",
       "    </tr>\n",
       "    <tr>\n",
       "      <th>1999981</th>\n",
       "      <td>dbtwdr caseys gen store  fennimore wi</td>\n",
       "      <td>Automotive</td>\n",
       "    </tr>\n",
       "    <tr>\n",
       "      <th>1999982</th>\n",
       "      <td>pos debit  dda kohls  clive ia</td>\n",
       "      <td>General Merchandise</td>\n",
       "    </tr>\n",
       "    <tr>\n",
       "      <th>1999983</th>\n",
       "      <td>starbucks store  maple valley wa</td>\n",
       "      <td>Food and Beverages</td>\n",
       "    </tr>\n",
       "    <tr>\n",
       "      <th>1999991</th>\n",
       "      <td>pos debit  visa check card   applecombill  ca</td>\n",
       "      <td>General Merchandise</td>\n",
       "    </tr>\n",
       "    <tr>\n",
       "      <th>1999992</th>\n",
       "      <td>nayax vending  hunt valley md</td>\n",
       "      <td>Food and Beverages</td>\n",
       "    </tr>\n",
       "  </tbody>\n",
       "</table>\n",
       "<p>496101 rows × 2 columns</p>\n",
       "</div>"
      ],
      "text/plain": [
       "                                                      memo  \\\n",
       "8        pos casino bar  spotl  memopurchase  coachella...   \n",
       "39                      best buy   grand regency brandon f   \n",
       "45       corner store  arlington tx  purchase  cash bac...   \n",
       "52                     speedway  in bedford in  debit_card   \n",
       "55            payment for amz storecard  web id  ach_debit   \n",
       "...                                                    ...   \n",
       "1999981              dbtwdr caseys gen store  fennimore wi   \n",
       "1999982                    pos debit  dda kohls  clive ia    \n",
       "1999983           starbucks store  maple valley wa           \n",
       "1999991      pos debit  visa check card   applecombill  ca   \n",
       "1999992       nayax vending  hunt valley md                  \n",
       "\n",
       "                new_category  \n",
       "8              Entertainment  \n",
       "39       General Merchandise  \n",
       "45                Automotive  \n",
       "52                Automotive  \n",
       "55       General Merchandise  \n",
       "...                      ...  \n",
       "1999981           Automotive  \n",
       "1999982  General Merchandise  \n",
       "1999983   Food and Beverages  \n",
       "1999991  General Merchandise  \n",
       "1999992   Food and Beverages  \n",
       "\n",
       "[496101 rows x 2 columns]"
      ]
     },
     "execution_count": 46,
     "metadata": {},
     "output_type": "execute_result"
    }
   ],
   "source": [
    "complete_frame[['memo','new_category']]"
   ]
  },
  {
   "cell_type": "code",
   "execution_count": 49,
   "id": "55d3766e",
   "metadata": {},
   "outputs": [],
   "source": [
    "lr=LogisticRegression() "
   ]
  },
  {
   "cell_type": "code",
   "execution_count": 54,
   "id": "9a6db668",
   "metadata": {},
   "outputs": [
    {
     "data": {
      "text/plain": [
       "TfidfVectorizer(stop_words='english')"
      ]
     },
     "execution_count": 54,
     "metadata": {},
     "output_type": "execute_result"
    }
   ],
   "source": [
    "tfidf.fit(X_train)"
   ]
  },
  {
   "cell_type": "code",
   "execution_count": 56,
   "id": "06d9613c",
   "metadata": {},
   "outputs": [],
   "source": [
    "x_train = tfidf.transform(X_train)\n",
    "x_test = tfidf.transform(X_test)"
   ]
  },
  {
   "cell_type": "code",
   "execution_count": 57,
   "id": "7d06cada",
   "metadata": {},
   "outputs": [
    {
     "name": "stderr",
     "output_type": "stream",
     "text": [
      "C:\\Users\\kevin\\anaconda3\\lib\\site-packages\\sklearn\\linear_model\\_logistic.py:763: ConvergenceWarning: lbfgs failed to converge (status=1):\n",
      "STOP: TOTAL NO. of ITERATIONS REACHED LIMIT.\n",
      "\n",
      "Increase the number of iterations (max_iter) or scale the data as shown in:\n",
      "    https://scikit-learn.org/stable/modules/preprocessing.html\n",
      "Please also refer to the documentation for alternative solver options:\n",
      "    https://scikit-learn.org/stable/modules/linear_model.html#logistic-regression\n",
      "  n_iter_i = _check_optimize_result(\n"
     ]
    },
    {
     "data": {
      "text/plain": [
       "LogisticRegression()"
      ]
     },
     "execution_count": 57,
     "metadata": {},
     "output_type": "execute_result"
    }
   ],
   "source": [
    "lr.fit(x_train,y_train)"
   ]
  },
  {
   "cell_type": "code",
   "execution_count": 59,
   "id": "c31d11e9",
   "metadata": {},
   "outputs": [],
   "source": [
    "ypred = lr.predict(x_test)"
   ]
  },
  {
   "cell_type": "code",
   "execution_count": 61,
   "id": "8b1472c9",
   "metadata": {},
   "outputs": [
    {
     "data": {
      "text/plain": [
       "0.854385175131525"
      ]
     },
     "execution_count": 61,
     "metadata": {},
     "output_type": "execute_result"
    }
   ],
   "source": [
    "metrics.accuracy_score(y_test,ypred)"
   ]
  },
  {
   "cell_type": "code",
   "execution_count": null,
   "id": "9ae3db7c",
   "metadata": {},
   "outputs": [],
   "source": []
  }
 ],
 "metadata": {
  "kernelspec": {
   "display_name": "Python 3",
   "language": "python",
   "name": "python3"
  },
  "language_info": {
   "codemirror_mode": {
    "name": "ipython",
    "version": 3
   },
   "file_extension": ".py",
   "mimetype": "text/x-python",
   "name": "python",
   "nbconvert_exporter": "python",
   "pygments_lexer": "ipython3",
   "version": "3.8.8"
  }
 },
 "nbformat": 4,
 "nbformat_minor": 5
}
